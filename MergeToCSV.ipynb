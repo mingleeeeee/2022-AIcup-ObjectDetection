{
 "cells": [
  {
   "cell_type": "code",
   "execution_count": null,
   "metadata": {},
   "outputs": [],
   "source": [
    "from datetime import datetime\n",
    "import os, glob\n",
    "import csv\n",
    "import cv2\n",
    "\n",
    "def yolobbox2bbox(x,y,w,h,img_size):\n",
    "    x1, y1 = (x-w/2)*img_size[0], (y-h/2)*img_size[1]\n",
    "    x2, y2 = (x+w/2)*img_size[0], (y+h/2)*img_size[1]\n",
    "    return x1, y1, x2, y2\n",
    "\n",
    "def run_convert():\n",
    "    read_path = 'yolov5/runs/detect/exp4/labels'\n",
    "    save_path = 'result'\n",
    "    image_path= 'datasets/test/public/'\n",
    "    count=0\n",
    "    csv_filename= datetime.now().isoformat()\n",
    "    with open(save_path+'/result'+csv_filename+'.csv','w', newline='') as csvfile:\n",
    "        writer = csv.writer(csvfile)\n",
    "        for filename in glob.glob(os.path.join(read_path, '*.txt')):\n",
    "            count+=1\n",
    "\n",
    "            name=filename\n",
    "            name=name.replace('yolov5/runs/detect/exp4/labels/','').replace('.txt','')\n",
    "            \n",
    "            img = cv2.imread(image_path+'/'+name+'.png')\n",
    "            h,w,c=img.shape\n",
    "            img_size=[float(w),float(h)]\n",
    "        \n",
    "            print('--'+str(count)+'-- '+name)\n",
    "            print(img_size)\n",
    "            with open(filename,'r') as f:\n",
    "                lines=f.readlines()\n",
    "                for line in lines:\n",
    "                    line=line.strip('\\n').split(' ')\n",
    "                    #print(line)\n",
    "                    class_id=line[0]\n",
    "                    YoloX=float(line[1])\n",
    "                    YoloY=float(line[2])\n",
    "                    YoloW=float(line[3])\n",
    "                    YoloH=float(line[4])\n",
    "                    x1,y1,x2,y2=yolobbox2bbox(YoloX,YoloY,YoloW,YoloH,img_size)\n",
    "                    x1=int(x1)\n",
    "                    y1=int(y1)\n",
    "                    w=int(x2-x1)\n",
    "                    h=int(y2-y1)\n",
    "                    print(\"%s %s %d %d %d %d\" %(name,class_id,x1,y1,w,h))\n",
    "                    writer.writerow([name,class_id,x1,y1,w,h])\n",
    "run_convert()"
   ]
  },
  {
   "cell_type": "code",
   "execution_count": null,
   "metadata": {},
   "outputs": [],
   "source": []
  }
 ],
 "metadata": {
  "kernelspec": {
   "display_name": "Python 3",
   "language": "python",
   "name": "python3"
  },
  "language_info": {
   "codemirror_mode": {
    "name": "ipython",
    "version": 3
   },
   "file_extension": ".py",
   "mimetype": "text/x-python",
   "name": "python",
   "nbconvert_exporter": "python",
   "pygments_lexer": "ipython3",
   "version": "3.7.6"
  }
 },
 "nbformat": 4,
 "nbformat_minor": 4
}
